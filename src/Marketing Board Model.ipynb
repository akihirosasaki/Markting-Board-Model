{
 "cells": [
  {
   "cell_type": "code",
   "execution_count": 1,
   "metadata": {
    "collapsed": false
   },
   "outputs": [
    {
     "name": "stderr",
     "output_type": "stream",
     "text": [
      "WARNING: Method definition count() in module IterTools at deprecated.jl:49 overwritten in module Iterators at deprecated.jl:49.\n",
      "WARNING: Method definition count(Number) in module IterTools at deprecated.jl:49 overwritten in module Iterators at deprecated.jl:49.\n",
      "WARNING: Method definition count(Number, Number) in module IterTools at deprecated.jl:49 overwritten in module Iterators at deprecated.jl:49.\n"
     ]
    }
   ],
   "source": [
    "using QuantEcon\n",
    "using Optim\n",
    "using BasisMatrices\n",
    "using Plots"
   ]
  },
  {
   "cell_type": "code",
   "execution_count": 2,
   "metadata": {
    "collapsed": true
   },
   "outputs": [],
   "source": [
    "type MarketingBoardModel\n",
    "    kappa::Float64　#費用定数\n",
    "    sigma::Float64 #生産ショックにかかる定数\n",
    "    delta::Float64 #割引定数\n",
    "    gamma::Float64 #状態遷移関数の係数\n",
    "    x_max::Float64 #最大保存量\n",
    "    snodes::Array{Float64}\n",
    "end"
   ]
  },
  {
   "cell_type": "code",
   "execution_count": 3,
   "metadata": {
    "collapsed": false
   },
   "outputs": [
    {
     "data": {
      "text/html": [
       "0.5"
      ],
      "text/plain": [
       "0.5"
      ]
     },
     "execution_count": 3,
     "metadata": {},
     "output_type": "execute_result"
    }
   ],
   "source": [
    "kappa = 0.05 \n",
    "gamma = -0.5\n",
    "mu = log([0.5; 0.5])\n",
    "sigma = 0.2\n",
    "delta = 0.95\n",
    "x_max = 0.5"
   ]
  },
  {
   "cell_type": "code",
   "execution_count": 4,
   "metadata": {
    "collapsed": false
   },
   "outputs": [
    {
     "data": {
      "text/plain": [
       "(\n",
       "[0.353611 0.353611; 0.5 0.353611; … ; 0.5 0.706991; 0.706991 0.706991],\n",
       "\n",
       "[0.0277778,0.111111,0.0277778,0.111111,0.444444,0.111111,0.0277778,0.111111,0.0277778])"
      ]
     },
     "execution_count": 4,
     "metadata": {},
     "output_type": "execute_result"
    }
   ],
   "source": [
    "nshocks = [3; 3]\n",
    "cov = (sigma^2)*eye(2)\n",
    "epsilon, weight = qnwlogn(nshocks, mu, cov)"
   ]
  },
  {
   "cell_type": "code",
   "execution_count": 5,
   "metadata": {
    "collapsed": false
   },
   "outputs": [
    {
     "data": {
      "text/html": [
       "0.35361117610946247"
      ],
      "text/plain": [
       "0.35361117610946247"
      ]
     },
     "execution_count": 5,
     "metadata": {},
     "output_type": "execute_result"
    }
   ],
   "source": [
    "n = [20; 20]\n",
    "s_min = minimum(epsilon)"
   ]
  },
  {
   "cell_type": "code",
   "execution_count": 6,
   "metadata": {
    "collapsed": false
   },
   "outputs": [
    {
     "data": {
      "text/html": [
       "1.2069912290402582"
      ],
      "text/plain": [
       "1.2069912290402582"
      ]
     },
     "execution_count": 6,
     "metadata": {},
     "output_type": "execute_result"
    }
   ],
   "source": [
    "s_max = maximum(epsilon) + x_max　#ここでsmaxのベクトルができる"
   ]
  },
  {
   "cell_type": "code",
   "execution_count": 7,
   "metadata": {
    "collapsed": false
   },
   "outputs": [
    {
     "data": {
      "text/plain": [
       "(\n",
       "[0.353611 0.353611; 0.370344 0.353611; … ; 1.19026 1.20699; 1.20699 1.20699],\n",
       "\n",
       "([0.353611,0.370344,0.40381,0.454009,0.504208,0.554406,0.604605,0.654804,0.705003,0.755202,0.805401,0.855599,0.905798,0.955997,1.0062,1.05639,1.10659,1.15679,1.19026,1.20699],[0.353611,0.370344,0.40381,0.454009,0.504208,0.554406,0.604605,0.654804,0.705003,0.755202,0.805401,0.855599,0.905798,0.955997,1.0062,1.05639,1.10659,1.15679,1.19026,1.20699]))"
      ]
     },
     "execution_count": 7,
     "metadata": {},
     "output_type": "execute_result"
    }
   ],
   "source": [
    "basis =  Basis(SplineParams(n[1]-2, s_min, s_max), SplineParams(n[2]-2, s_min, s_max))\n",
    "snodes, (s1_vec, s2_vec) = nodes(basis)"
   ]
  },
  {
   "cell_type": "code",
   "execution_count": 8,
   "metadata": {
    "collapsed": false
   },
   "outputs": [
    {
     "data": {
      "text/plain": [
       "400-element Array{Float64,1}:\n",
       " 1.0\n",
       " 1.0\n",
       " 1.0\n",
       " 1.0\n",
       " 1.0\n",
       " 1.0\n",
       " 1.0\n",
       " 1.0\n",
       " 1.0\n",
       " 1.0\n",
       " 1.0\n",
       " 1.0\n",
       " 1.0\n",
       " ⋮  \n",
       " 1.0\n",
       " 1.0\n",
       " 1.0\n",
       " 1.0\n",
       " 1.0\n",
       " 1.0\n",
       " 1.0\n",
       " 1.0\n",
       " 1.0\n",
       " 1.0\n",
       " 1.0\n",
       " 1.0"
      ]
     },
     "execution_count": 8,
     "metadata": {},
     "output_type": "execute_result"
    }
   ],
   "source": [
    "Φ = BasisMatrix(basis, Expanded(), snodes, 0)\n",
    "initial_c = Φ.vals[1] \\ ones(size(Φ.vals[1])[1])"
   ]
  },
  {
   "cell_type": "code",
   "execution_count": 9,
   "metadata": {
    "collapsed": false
   },
   "outputs": [
    {
     "data": {
      "text/plain": [
       "MarketingBoardModel(0.05,0.2,0.95,-0.5,0.5,[0.353611 0.353611; 0.370344 0.353611; … ; 1.19026 1.20699; 1.20699 1.20699])"
      ]
     },
     "execution_count": 9,
     "metadata": {},
     "output_type": "execute_result"
    }
   ],
   "source": [
    "MBM = MarketingBoardModel(kappa, sigma, delta, gamma, x_max, snodes)"
   ]
  },
  {
   "cell_type": "code",
   "execution_count": 10,
   "metadata": {
    "collapsed": false
   },
   "outputs": [
    {
     "data": {
      "text/plain": [
       "q (generic function with 1 method)"
      ]
     },
     "execution_count": 10,
     "metadata": {},
     "output_type": "execute_result"
    }
   ],
   "source": [
    "function q(MBM::MarketingBoardModel, s::Array{Float64, 2}, x::Array{Float64, 2})\n",
    "    return s[:,1]-x[:,1] + s[:,2]-x[:,2]\n",
    "end"
   ]
  },
  {
   "cell_type": "code",
   "execution_count": 11,
   "metadata": {
    "collapsed": false
   },
   "outputs": [
    {
     "data": {
      "text/plain": [
       "p (generic function with 1 method)"
      ]
     },
     "execution_count": 11,
     "metadata": {},
     "output_type": "execute_result"
    }
   ],
   "source": [
    "function p(MBM::MarketingBoardModel, s::Array{Float64, 2}, x::Array{Float64, 2})\n",
    "    return q(MBM, s, x).^MBM.gamma\n",
    "end"
   ]
  },
  {
   "cell_type": "code",
   "execution_count": 42,
   "metadata": {
    "collapsed": false
   },
   "outputs": [
    {
     "name": "stderr",
     "output_type": "stream",
     "text": [
      "WARNING: Method definition f(Main.MarketingBoardModel, Array{Float64, 2}, Array{Float64, 2}, Int64) in module Main at In[12]:2 overwritten at In[42]:2.\n"
     ]
    },
    {
     "data": {
      "text/plain": [
       "f (generic function with 1 method)"
      ]
     },
     "execution_count": 42,
     "metadata": {},
     "output_type": "execute_result"
    }
   ],
   "source": [
    "function f(MBM::MarketingBoardModel, s::Array{Float64, 2}, x::Array{Float64, 2}, k::Int64)\n",
    "    return p(MBM, s, x).*(s[:,k]-x[:,k]) - MBM.kappa*x[:,k]\n",
    "end"
   ]
  },
  {
   "cell_type": "code",
   "execution_count": 62,
   "metadata": {
    "collapsed": false
   },
   "outputs": [
    {
     "name": "stderr",
     "output_type": "stream",
     "text": [
      "WARNING: Method definition update_Bellman(Main.MarketingBoardModel, Array{T<:Any, 1}) in module Main at In[59]:2 overwritten at In[62]:2.\n"
     ]
    },
    {
     "data": {
      "text/plain": [
       "update_Bellman (generic function with 1 method)"
      ]
     },
     "execution_count": 62,
     "metadata": {},
     "output_type": "execute_result"
    }
   ],
   "source": [
    "function update_Bellman(MBM::MarketingBoardModel, C::Vector)\n",
    "    kappa, sigma, delta, gamma, snodes = MBM.kappa, MBM.sigma, MBM.delta, MBM.gamma, MBM.snodes\n",
    "    V_new = Array{Float64, 2}(size(snodes))\n",
    "    x_opt = Array{Float64, 2}(size(snodes))\n",
    "    for k in 1:2\n",
    "        for i in 1:size(snodes, 1)\n",
    "            objective(x::Array{Float64, 2}) = -(f(MBM, snodes, x, k) \n",
    "                + delta * dot(weight, [funeval( C, basis, [x[i,1]+epsilon[j,1] , x[i,2]+epsilon[j,2]] ) for j in 1:size(epsilon, 1)]))\n",
    "            opt = optimize(objective, zeros(2) .+ 0.01, [s_min, 0], [s_max 0; 0 x_max] * ones(2), Fminbox{}())\n",
    "            V_new[i, k] = opt.minimum\n",
    "            x_opt[i, k] = opt.minimizer    \n",
    "        end\n",
    "            C_new[k] = Φ.vals[1] \\ V_new\n",
    "    end\n",
    "    return C_new, x_opt\n",
    "    \n",
    "end"
   ]
  },
  {
   "cell_type": "code",
   "execution_count": 23,
   "metadata": {
    "collapsed": false
   },
   "outputs": [
    {
     "ename": "LoadError",
     "evalue": "BoundsError: attempt to access 400×2 Array{Float64,2} at index [0,1]",
     "output_type": "error",
     "traceback": [
      "BoundsError: attempt to access 400×2 Array{Float64,2} at index [0,1]",
      "",
      " in getindex(::Array{Float64,2}, ::Int64, ::Int64) at ./array.jl:387",
      " in collect(::Base.Generator{UnitRange{Int64},##12#13}) at ./array.jl:307"
     ]
    }
   ],
   "source": [
    "a = zeros(400, 2)\n",
    "dot(weight, [funeval( C, basis, [a[i,1]+epsilon[j,1] , a[i,2]+epsilon[j,2]] ) for j in 1:size(epsilon, 1) ] )"
   ]
  },
  {
   "cell_type": "code",
   "execution_count": 31,
   "metadata": {
    "collapsed": false
   },
   "outputs": [
    {
     "data": {
      "text/plain": [
       "400-element Array{Float64,1}:\n",
       " 1.37048\n",
       " 1.38526\n",
       " 1.41399\n",
       " 1.4552 \n",
       " 1.49439\n",
       " 1.53181\n",
       " 1.56765\n",
       " 1.60207\n",
       " 1.63521\n",
       " 1.66719\n",
       " 1.69811\n",
       " 1.72807\n",
       " 1.75714\n",
       " ⋮      \n",
       " 1.45986\n",
       " 1.48913\n",
       " 1.51775\n",
       " 1.54575\n",
       " 1.57317\n",
       " 1.60002\n",
       " 1.62635\n",
       " 1.65218\n",
       " 1.67752\n",
       " 1.7024 \n",
       " 1.71875\n",
       " 1.72685"
      ]
     },
     "execution_count": 31,
     "metadata": {},
     "output_type": "execute_result"
    }
   ],
   "source": [
    "for i in 1:size(snodes, 1)\n",
    "    return f(MBM, snodes, a, 1) + MBM.delta*dot(weight, [funeval( C, basis, [a[i,1]+epsilon[j,1] , a[i,2]+epsilon[j,2]] ) for j in 1:size(epsilon, 1) ])\n",
    "end"
   ]
  },
  {
   "cell_type": "code",
   "execution_count": 28,
   "metadata": {
    "collapsed": false
   },
   "outputs": [
    {
     "ename": "LoadError",
     "evalue": "UndefVarError: b not defined",
     "output_type": "error",
     "traceback": [
      "UndefVarError: b not defined",
      ""
     ]
    }
   ],
   "source": []
  },
  {
   "cell_type": "code",
   "execution_count": 16,
   "metadata": {
    "collapsed": false
   },
   "outputs": [
    {
     "data": {
      "text/plain": [
       "400×2 Array{Float64,2}:\n",
       " 0.0           4.94066e-324\n",
       " 6.36599e-314  0.0         \n",
       " 6.95314e-310  0.0         \n",
       " 1.4822e-322   7.64001e-313\n",
       " 0.0           6.95198e-310\n",
       " 0.0           6.95198e-310\n",
       " 0.0           6.95198e-310\n",
       " 6.36599e-314  9.33678e-313\n",
       " 6.95314e-310  6.95198e-310\n",
       " 1.58101e-322  6.95198e-310\n",
       " 0.0           6.95198e-310\n",
       " 2.37152e-322  6.95198e-310\n",
       " 0.0           6.95198e-310\n",
       " ⋮                         \n",
       " 6.95198e-310  2.44063e-312\n",
       " 2.22603e-314  6.95198e-310\n",
       " 6.95198e-310  0.0         \n",
       " 6.95198e-310  6.95198e-310\n",
       " 5.45353e-312  6.95198e-310\n",
       " 0.0           6.95198e-310\n",
       " 0.0           6.95198e-310\n",
       " 6.95198e-310  4.94066e-324\n",
       " 6.95198e-310  6.95198e-310\n",
       " 2.22597e-314  2.122e-314  \n",
       " 6.95198e-310  6.95198e-310\n",
       " 6.95198e-310  0.0         "
      ]
     },
     "execution_count": 16,
     "metadata": {},
     "output_type": "execute_result"
    }
   ],
   "source": [
    "C = initial_c\n",
    "tol = 0.000000001\n",
    "max_iter = 200\n",
    "C_error = 1.0\n",
    "i = 0\n",
    "x_opt = Array{Float64, 2}(size(snodes))"
   ]
  },
  {
   "cell_type": "code",
   "execution_count": 63,
   "metadata": {
    "collapsed": false
   },
   "outputs": [
    {
     "ename": "LoadError",
     "evalue": "MethodError: no method matching optimize(::#objective#74{MarketingBoardModel,Array{Float64,1},Float64,Array{Float64,2}}, ::Array{Float64,1}, ::Array{Float64,1}, ::Array{Float64,1}, ::Optim.Fminbox)\u001b[0m\nClosest candidates are:\n  optimize{T<:AbstractFloat}(\u001b[1m\u001b[31m::Optim.OnceDifferentiable\u001b[0m, ::Array{T<:AbstractFloat,N}, ::Array{T<:AbstractFloat,N}, ::Array{T<:AbstractFloat,N}, ::Optim.Fminbox; x_tol, f_tol, g_tol, allow_f_increases, iterations, store_trace, show_trace, extended_trace, callback, show_every, linesearch!, linesearch, eta, mu0, mufactor, precondprep!, precondprep, optimizer, optimizer_o, nargs...) at /Users/sasakiakihiro/.julia/v0.5/Optim/src/fminbox.jl:136\n  optimize{F<:Function,G<:Function,H<:Function}(::F<:Function, \u001b[1m\u001b[31m::G<:Function\u001b[0m, \u001b[1m\u001b[31m::H<:Function\u001b[0m, ::Array{T,N}, ::Optim.Optimizer) at /Users/sasakiakihiro/.julia/v0.5/Optim/src/optimize.jl:75\n  optimize{F<:Function,G<:Function,H<:Function}(::F<:Function, \u001b[1m\u001b[31m::G<:Function\u001b[0m, \u001b[1m\u001b[31m::H<:Function\u001b[0m, ::Array{T,N}, ::Optim.Optimizer, \u001b[1m\u001b[31m::Optim.Options{TCallback<:Union{Function,Void}}\u001b[0m) at /Users/sasakiakihiro/.julia/v0.5/Optim/src/optimize.jl:75\n  ...\u001b[0m",
     "output_type": "error",
     "traceback": [
      "MethodError: no method matching optimize(::#objective#74{MarketingBoardModel,Array{Float64,1},Float64,Array{Float64,2}}, ::Array{Float64,1}, ::Array{Float64,1}, ::Array{Float64,1}, ::Optim.Fminbox)\u001b[0m\nClosest candidates are:\n  optimize{T<:AbstractFloat}(\u001b[1m\u001b[31m::Optim.OnceDifferentiable\u001b[0m, ::Array{T<:AbstractFloat,N}, ::Array{T<:AbstractFloat,N}, ::Array{T<:AbstractFloat,N}, ::Optim.Fminbox; x_tol, f_tol, g_tol, allow_f_increases, iterations, store_trace, show_trace, extended_trace, callback, show_every, linesearch!, linesearch, eta, mu0, mufactor, precondprep!, precondprep, optimizer, optimizer_o, nargs...) at /Users/sasakiakihiro/.julia/v0.5/Optim/src/fminbox.jl:136\n  optimize{F<:Function,G<:Function,H<:Function}(::F<:Function, \u001b[1m\u001b[31m::G<:Function\u001b[0m, \u001b[1m\u001b[31m::H<:Function\u001b[0m, ::Array{T,N}, ::Optim.Optimizer) at /Users/sasakiakihiro/.julia/v0.5/Optim/src/optimize.jl:75\n  optimize{F<:Function,G<:Function,H<:Function}(::F<:Function, \u001b[1m\u001b[31m::G<:Function\u001b[0m, \u001b[1m\u001b[31m::H<:Function\u001b[0m, ::Array{T,N}, ::Optim.Optimizer, \u001b[1m\u001b[31m::Optim.Options{TCallback<:Union{Function,Void}}\u001b[0m) at /Users/sasakiakihiro/.julia/v0.5/Optim/src/optimize.jl:75\n  ...\u001b[0m",
      "",
      " in update_Bellman(::MarketingBoardModel, ::Array{Float64,1}) at ./In[62]:9",
      " in macro expansion; at ./In[63]:2 [inlined]",
      " in anonymous at ./<missing>:?"
     ]
    }
   ],
   "source": [
    "while C_error > tol && i <= max_iter\n",
    "    C_computed, x_opt_computed = update_Bellman(MBM, C)\n",
    "    C_error = maximum(abs, C_computed - C)\n",
    "    copy!(C, C_computed)\n",
    "    copy!(x_opt, x_opt_computed)\n",
    "    i += 1\n",
    "end\n",
    "\n",
    "i, C_error"
   ]
  },
  {
   "cell_type": "code",
   "execution_count": null,
   "metadata": {
    "collapsed": true
   },
   "outputs": [],
   "source": []
  },
  {
   "cell_type": "code",
   "execution_count": 18,
   "metadata": {
    "collapsed": false
   },
   "outputs": [
    {
     "ename": "LoadError",
     "evalue": "UndefVarError: x not defined",
     "output_type": "error",
     "traceback": [
      "UndefVarError: x not defined",
      "",
      " in collect(::Base.Generator{UnitRange{Int64},##4#5}) at ./array.jl:307"
     ]
    }
   ],
   "source": [
    "MBM.delta * dot(weight, [funeval( C, basis, [x[i,1]+epsilon[j,1] , x[i,2]+epsilon[j,2]] ) for j in 1:size(epsilon, 1) ] )"
   ]
  },
  {
   "cell_type": "code",
   "execution_count": null,
   "metadata": {
    "collapsed": true
   },
   "outputs": [],
   "source": []
  }
 ],
 "metadata": {
  "kernelspec": {
   "display_name": "Julia 0.5.1",
   "language": "julia",
   "name": "julia-0.5"
  },
  "language_info": {
   "file_extension": ".jl",
   "mimetype": "application/julia",
   "name": "julia",
   "version": "0.5.1"
  }
 },
 "nbformat": 4,
 "nbformat_minor": 2
}
