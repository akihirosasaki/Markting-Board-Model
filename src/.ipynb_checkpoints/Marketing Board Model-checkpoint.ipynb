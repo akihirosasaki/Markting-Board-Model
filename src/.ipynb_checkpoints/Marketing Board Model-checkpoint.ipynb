{
 "cells": [
  {
   "cell_type": "code",
   "execution_count": 2,
   "metadata": {
    "collapsed": false
   },
   "outputs": [
    {
     "name": "stderr",
     "output_type": "stream",
     "text": [
      "WARNING: Method definition count() in module IterTools at deprecated.jl:49 overwritten in module Iterators at deprecated.jl:49.\n",
      "WARNING: Method definition count(Number) in module IterTools at deprecated.jl:49 overwritten in module Iterators at deprecated.jl:49.\n",
      "WARNING: Method definition count(Number, Number) in module IterTools at deprecated.jl:49 overwritten in module Iterators at deprecated.jl:49.\n"
     ]
    }
   ],
   "source": [
    "using QuantEcon\n",
    "using Optim\n",
    "using BasisMatrices\n",
    "using Plots"
   ]
  },
  {
   "cell_type": "code",
   "execution_count": 3,
   "metadata": {
    "collapsed": true
   },
   "outputs": [],
   "source": [
    "type MarketingBoardModel\n",
    "    kappa::Float64　#費用定数\n",
    "    sigma::Float64 #生産ショックにかかる定数\n",
    "    delta::Float64 #割引定数\n",
    "    gamma::Float64 #状態遷移関数の係数\n",
    "    x_max::Float64 #最大保存量\n",
    "    snodes::Array{Float64}\n",
    "end"
   ]
  },
  {
   "cell_type": "code",
   "execution_count": 4,
   "metadata": {
    "collapsed": false
   },
   "outputs": [
    {
     "data": {
      "text/html": [
       "0.5"
      ],
      "text/plain": [
       "0.5"
      ]
     },
     "execution_count": 4,
     "metadata": {},
     "output_type": "execute_result"
    }
   ],
   "source": [
    "kappa = 0.05 \n",
    "gamma = -0.5\n",
    "mu = log([0.5; 0.5])\n",
    "sigma = 0.2\n",
    "delta = 0.95\n",
    "x_max = 0.5"
   ]
  },
  {
   "cell_type": "code",
   "execution_count": 5,
   "metadata": {
    "collapsed": false
   },
   "outputs": [
    {
     "data": {
      "text/plain": [
       "(\n",
       "[0.353611 0.353611; 0.5 0.353611; … ; 0.5 0.706991; 0.706991 0.706991],\n",
       "\n",
       "[0.0277778,0.111111,0.0277778,0.111111,0.444444,0.111111,0.0277778,0.111111,0.0277778])"
      ]
     },
     "execution_count": 5,
     "metadata": {},
     "output_type": "execute_result"
    }
   ],
   "source": [
    "nshocks = [3; 3]\n",
    "cov = (sigma^2)*eye(2)\n",
    "epsilon, weight = qnwlogn(nshocks, mu, cov)"
   ]
  },
  {
   "cell_type": "code",
   "execution_count": 6,
   "metadata": {
    "collapsed": false
   },
   "outputs": [
    {
     "data": {
      "text/html": [
       "0.35361117610946247"
      ],
      "text/plain": [
       "0.35361117610946247"
      ]
     },
     "execution_count": 6,
     "metadata": {},
     "output_type": "execute_result"
    }
   ],
   "source": [
    "n = [20; 20]\n",
    "s_min = minimum(epsilon)"
   ]
  },
  {
   "cell_type": "code",
   "execution_count": 7,
   "metadata": {
    "collapsed": false
   },
   "outputs": [
    {
     "data": {
      "text/html": [
       "1.2069912290402582"
      ],
      "text/plain": [
       "1.2069912290402582"
      ]
     },
     "execution_count": 7,
     "metadata": {},
     "output_type": "execute_result"
    }
   ],
   "source": [
    "s_max = maximum(epsilon) + x_max"
   ]
  },
  {
   "cell_type": "code",
   "execution_count": 9,
   "metadata": {
    "collapsed": false
   },
   "outputs": [
    {
     "data": {
      "text/plain": [
       "(\n",
       "[0.353611 0.353611; 0.368583 0.353611; … ; 1.19202 1.20699; 1.20699 1.20699],\n",
       "\n",
       "([0.353611,0.368583,0.398526,0.443441,0.488355,0.53327,0.578185,0.6231,0.668014,0.712929  …  0.847673,0.892588,0.937503,0.982418,1.02733,1.07225,1.11716,1.16208,1.19202,1.20699],[0.353611,0.368583,0.398526,0.443441,0.488355,0.53327,0.578185,0.6231,0.668014,0.712929  …  0.847673,0.892588,0.937503,0.982418,1.02733,1.07225,1.11716,1.16208,1.19202,1.20699]))"
      ]
     },
     "execution_count": 9,
     "metadata": {},
     "output_type": "execute_result"
    }
   ],
   "source": [
    "sgrid0 = linspace(s_min, s_max, n[1])\n",
    "basis =  Basis(SplineParams(sgrid0, 0, 3), SplineParams(sgrid0, 0, 3))\n",
    "snodes, (s1_vec, s2_vec) = nodes(basis)"
   ]
  },
  {
   "cell_type": "code",
   "execution_count": 14,
   "metadata": {
    "collapsed": false
   },
   "outputs": [
    {
     "data": {
      "text/plain": [
       "484×2 Array{Float64,2}:\n",
       " 1.0  1.0\n",
       " 1.0  1.0\n",
       " 1.0  1.0\n",
       " 1.0  1.0\n",
       " 1.0  1.0\n",
       " 1.0  1.0\n",
       " 1.0  1.0\n",
       " 1.0  1.0\n",
       " 1.0  1.0\n",
       " 1.0  1.0\n",
       " 1.0  1.0\n",
       " 1.0  1.0\n",
       " 1.0  1.0\n",
       " ⋮       \n",
       " 1.0  1.0\n",
       " 1.0  1.0\n",
       " 1.0  1.0\n",
       " 1.0  1.0\n",
       " 1.0  1.0\n",
       " 1.0  1.0\n",
       " 1.0  1.0\n",
       " 1.0  1.0\n",
       " 1.0  1.0\n",
       " 1.0  1.0\n",
       " 1.0  1.0\n",
       " 1.0  1.0"
      ]
     },
     "execution_count": 14,
     "metadata": {},
     "output_type": "execute_result"
    }
   ],
   "source": [
    "Φ = BasisMatrix(basis, Expanded(), snodes, 0)\n",
    "initial_c = Φ.vals[1] \\ ones(size(Φ.vals[1])[1], 2)"
   ]
  },
  {
   "cell_type": "code",
   "execution_count": 10,
   "metadata": {
    "collapsed": false
   },
   "outputs": [
    {
     "data": {
      "text/plain": [
       "MarketingBoardModel(0.05,0.2,0.95,-0.5,0.5,[0.353611 0.353611; 0.368583 0.353611; … ; 1.19202 1.20699; 1.20699 1.20699])"
      ]
     },
     "execution_count": 10,
     "metadata": {},
     "output_type": "execute_result"
    }
   ],
   "source": [
    "MBM = MarketingBoardModel(kappa, sigma, delta, gamma, x_max, snodes)"
   ]
  },
  {
   "cell_type": "code",
   "execution_count": 11,
   "metadata": {
    "collapsed": false
   },
   "outputs": [
    {
     "data": {
      "text/plain": [
       "tmp2 (generic function with 1 method)"
      ]
     },
     "execution_count": 11,
     "metadata": {},
     "output_type": "execute_result"
    }
   ],
   "source": [
    "box1 = ones(2,1)\n",
    "box11 = ones(size(epsilon, 1))\n",
    "box2 = ones(2,1)\n",
    "box22 = ones(size(epsilon, 1))\n",
    "\n",
    "function tmp1(z::Float64, i::Int64, C::Matrix)\n",
    "    f1 = 0\n",
    "    for k in 1:size(snodes, 1)\n",
    "        reward_tmp = (((snodes[i,1]-z +snodes[k,2]-x2).^gamma) .*(snodes[i,1]-z) - kappa*z)\n",
    "        f1 += reward_tmp\n",
    "    end\n",
    "    reward1 = f1 / size(snodes, 1)\n",
    "    for j in 1:size(epsilon, 1)\n",
    "        box1 = funeval( C[:,1], basis, [z+epsilon[j,1], x2+epsilon[j,2]])\n",
    "        @show box1\n",
    "        box11[j] = box1[1]\n",
    "        @show box11\n",
    "    end\n",
    "    return -(reward1+delta*dot(weight, box11))\n",
    "end\n",
    "\n",
    "function tmp2(z::Float64, i::Int64, C::Matrix)\n",
    "    f2 = 0\n",
    "    for k in 1:size(snodes, 1)\n",
    "        reward_tmp = (((snodes[i,2]-z + snodes[k,1]-x1).^gamma) .*(snodes[i,2]-z) - kappa*z)\n",
    "        f2 += reward_tmp\n",
    "    end\n",
    "    reward2 = f2 / size(snodes, 1)\n",
    "    for j in 1:size(epsilon, 1)\n",
    "        box2 = funeval( C[:,2], basis, [z+epsilon[j,2], x1+epsilon[j,1]])\n",
    "        box22[j] = box2[1]\n",
    "    end\n",
    "    return -(reward2 + delta*dot(weight, box22))\n",
    "end"
   ]
  },
  {
   "cell_type": "code",
   "execution_count": 12,
   "metadata": {
    "collapsed": false
   },
   "outputs": [
    {
     "data": {
      "text/plain": [
       "update_Bellman (generic function with 1 method)"
      ]
     },
     "execution_count": 12,
     "metadata": {},
     "output_type": "execute_result"
    }
   ],
   "source": [
    "function update_Bellman(MBM::MarketingBoardModel, C::Matrix)\n",
    "    kappa, sigma, delta, gamma, snodes = MBM.kappa, MBM.sigma, MBM.delta, MBM.gamma, MBM.snodes\n",
    "    V_new = Array{Float64,2}(size(snodes))\n",
    "    x_opt = Array{Float64,2}(size(snodes))\n",
    "    C_new = Array{Float64,2}(size(snodes))\n",
    "    for i in 1:size(snodes, 1)\n",
    "        fin1(z) = tmp1(z,i,C)\n",
    "        opt1 = optimize(fin1, 0, 0.5)\n",
    "        V_new[i, 1] = opt1.minimum\n",
    "        x_opt[i, 1] = opt1.minimizer\n",
    "    end\n",
    "    C_new[:,1] = Φ.vals[1] \\ V_new[:,1]\n",
    "    \n",
    "    for i in 1:size(snodes, 1)\n",
    "        fin2(z) = tmp2(z,i,C)\n",
    "        opt2 = optimize(fin2, 0, 0.5)\n",
    "        V_new[i, 2] = opt2.minimum\n",
    "        x_opt[i, 2] = opt2.minimizer\n",
    "    end\n",
    "    C_new[:,2] = Φ.vals[1] \\ V_new[:,2]\n",
    "    \n",
    "    return C_new, x_opt\n",
    "end"
   ]
  },
  {
   "cell_type": "code",
   "execution_count": 15,
   "metadata": {
    "collapsed": false
   },
   "outputs": [
    {
     "data": {
      "text/plain": [
       "484×2 Array{Float64,2}:\n",
       "   6.93893e-310    6.93893e-310\n",
       "   0.0             6.93913e-310\n",
       "   8.48798e-314    6.93913e-310\n",
       "   6.89912e-310    6.93913e-310\n",
       "   6.93893e-310    6.93913e-310\n",
       "   0.0             6.93893e-310\n",
       "   1.061e-313      6.93913e-310\n",
       "   2.82138e276     6.93913e-310\n",
       "   1.39805e-76     6.93913e-310\n",
       "   6.93913e-310    6.93913e-310\n",
       "   6.93893e-310  NaN           \n",
       "   0.0             6.93913e-310\n",
       "   1.2732e-313     6.93893e-310\n",
       "   ⋮                           \n",
       "   6.93913e-310  NaN           \n",
       "   6.93913e-310    6.93913e-310\n",
       " NaN               6.93913e-310\n",
       "   6.93913e-310    6.93913e-310\n",
       "   6.93913e-310    6.93913e-310\n",
       "   6.93913e-310    6.93893e-310\n",
       "   6.93913e-310    6.93913e-310\n",
       " NaN               6.93913e-310\n",
       "   6.93913e-310    6.93913e-310\n",
       "   6.93913e-310    6.93913e-310\n",
       "   6.93913e-310  NaN           \n",
       "   6.93913e-310    6.93913e-310"
      ]
     },
     "execution_count": 15,
     "metadata": {},
     "output_type": "execute_result"
    }
   ],
   "source": [
    "C = initial_c\n",
    "tol = 0.000000001\n",
    "max_iter = 200\n",
    "C_error = 1.0\n",
    "i = 0\n",
    "x_opt = Array{Float64,2}(size(snodes))"
   ]
  },
  {
   "cell_type": "code",
   "execution_count": 16,
   "metadata": {
    "collapsed": false
   },
   "outputs": [
    {
     "ename": "LoadError",
     "evalue": "UndefVarError: x2 not defined",
     "output_type": "error",
     "traceback": [
      "UndefVarError: x2 not defined",
      "",
      " in tmp1(::Float64, ::Int64, ::Array{Float64,2}) at ./In[11]:9",
      " in #optimize#72(::Float64, ::Float64, ::Int64, ::Bool, ::Bool, ::Void, ::Int64, ::Bool, ::Optim.#optimize, ::#fin1#1{Array{Float64,2}}, ::Float64, ::Float64, ::Optim.Brent) at /Users/sasakiakihiro/.julia/v0.5/Optim/src/brent.jl:48",
      " in (::Optim.#kw##optimize)(::Array{Any,1}, ::Optim.#optimize, ::#fin1#1{Array{Float64,2}}, ::Float64, ::Float64, ::Optim.Brent) at ./<missing>:0",
      " in #optimize#89(::Optim.Brent, ::Float64, ::Float64, ::Int64, ::Bool, ::Bool, ::Void, ::Int64, ::Bool, ::Optim.#optimize, ::#fin1#1{Array{Float64,2}}, ::Float64, ::Float64) at /Users/sasakiakihiro/.julia/v0.5/Optim/src/optimize.jl:265",
      " in #optimize#90(::Array{Any,1}, ::Function, ::#fin1#1{Array{Float64,2}}, ::Int64, ::Float64) at /Users/sasakiakihiro/.julia/v0.5/Optim/src/optimize.jl:280",
      " in update_Bellman(::MarketingBoardModel, ::Array{Float64,2}) at ./In[12]:8",
      " in macro expansion; at ./In[16]:3 [inlined]",
      " in anonymous at ./<missing>:?"
     ]
    }
   ],
   "source": [
    "C_computed, x_opt_computed = Array{Float64}(size(snodes))\n",
    "while C_error > tol && i <= max_iter\n",
    "    C_computed, x_opt_computed = update_Bellman(MBM, C)\n",
    "    C_error = maximum(abs, C_computed - C)\n",
    "    copy!(C, C_computed)\n",
    "    copy!(x_opt, x_opt_computed)\n",
    "    i += 1\n",
    "end\n",
    "\n",
    "i, C_error"
   ]
  },
  {
   "cell_type": "code",
   "execution_count": 17,
   "metadata": {
    "collapsed": true
   },
   "outputs": [],
   "source": [
    "xgrid = zeros(n[1]+2, n[1]+2)\n",
    "ygrid = zeros(n[2]+2, n[2]+2)\n",
    "for i in 1:n[1]+2\n",
    "    xgrid[i, :] = s1_vec'\n",
    "end\n",
    "for i in 1:n[2]+2\n",
    "    ygrid[:, i] = s2_vec\n",
    "end"
   ]
  },
  {
   "cell_type": "code",
   "execution_count": null,
   "metadata": {
    "collapsed": true
   },
   "outputs": [],
   "source": [
    "z = reshape(x_opt[:, 1], n[1]+2, n[2]+2);"
   ]
  },
  {
   "cell_type": "code",
   "execution_count": null,
   "metadata": {
    "collapsed": true
   },
   "outputs": [],
   "source": []
  }
 ],
 "metadata": {
  "kernelspec": {
   "display_name": "Julia 0.5.1",
   "language": "julia",
   "name": "julia-0.5"
  },
  "language_info": {
   "file_extension": ".jl",
   "mimetype": "application/julia",
   "name": "julia",
   "version": "0.5.1"
  }
 },
 "nbformat": 4,
 "nbformat_minor": 2
}
